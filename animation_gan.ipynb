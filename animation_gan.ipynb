{
 "cells": [
  {
   "cell_type": "code",
   "execution_count": null,
   "metadata": {},
   "outputs": [],
   "source": [
    "%matplotlib inline\n",
    "import os\n",
    "import time\n",
    "import shutil\n",
    "import cv2\n",
    "import imageio\n",
    "import numpy as np\n",
    "import matplotlib.pyplot as plt\n",
    "import seaborn as sns\n",
    "\n",
    "sns.set_style(\"dark\")\n",
    "plt.style.use(\"dark_background\")\n",
    "\n",
    "import torch\n",
    "import torch.nn as nn\n",
    "import torch.optim as optim\n",
    "import torchvision.datasets\n",
    "import torchvision.transforms as transforms\n",
    "\n",
    "from datetime import datetime\n",
    "from IPython import display\n",
    "\n",
    "import utils\n",
    "import model\n",
    "import calculate_anim_mask\n",
    "\n",
    "training_timestamp = str(int(time.time()))\n",
    "model_dir = f'trained_models/model_{training_timestamp}/'\n",
    "\n",
    "if not os.path.exists(model_dir):\n",
    "    os.makedirs(model_dir)\n",
    "\n",
    "device = torch.device(\"cuda:0\")"
   ]
  },
  {
   "cell_type": "code",
   "execution_count": null,
   "metadata": {},
   "outputs": [],
   "source": [
    "def print_and_log(text):\n",
    "    print(text)\n",
    "    print(text, file=open(f'{model_dir}/log.txt', 'a'))"
   ]
  },
  {
   "cell_type": "code",
   "execution_count": null,
   "metadata": {},
   "outputs": [],
   "source": [
    "shutil.copy2('./animation_gan.ipynb', model_dir)"
   ]
  },
  {
   "cell_type": "code",
   "execution_count": null,
   "metadata": {},
   "outputs": [],
   "source": [
    "if os.path.isfile('preprocessed_data/processed_data.pt'):\n",
    "    processed_data = torch.load('preprocessed_data/processed_data.pt')\n",
    "else:\n",
    "    processed_data = utils.preprocess_data(batch_size=64, data_size=40_000)\n",
    "    torch.save(processed_data, 'preprocessed_data/processed_data.pt')"
   ]
  },
  {
   "cell_type": "code",
   "execution_count": null,
   "metadata": {},
   "outputs": [],
   "source": [
    "batch_size = 8\n",
    "\n",
    "dataset = torchvision.datasets.ImageFolder(root=\"data\", transform=transforms.Compose([transforms.ToTensor(),\n",
    "                                                                                      transforms.Normalize((0.5, 0.5, 0.5), (0.5, 0.5, 0.5))]))\n",
    "dataloader = torch.utils.data.DataLoader(dataset, batch_size=batch_size, shuffle=True)"
   ]
  },
  {
   "cell_type": "code",
   "execution_count": null,
   "metadata": {},
   "outputs": [],
   "source": [
    "real_images, _ = next(iter(dataloader))\n",
    "cur_img = real_images[0].numpy().transpose(1, 2, 0)\n",
    "plt.figure(figsize=(9*2, 4*2))\n",
    "plt.imshow((cur_img+1.0)*0.5)"
   ]
  },
  {
   "cell_type": "code",
   "execution_count": null,
   "metadata": {},
   "outputs": [],
   "source": [
    "img_i = 0\n",
    "frame_i = 0 # 0-35\n",
    "cur_img_cube = utils.get_img_cube(real_images.numpy().transpose(0, 2, 3, 1), img_i)\n",
    "plt.imshow((cur_img_cube[:,:,frame_i*3:(frame_i+1)*3]+1.0)*0.5)"
   ]
  },
  {
   "cell_type": "code",
   "execution_count": null,
   "metadata": {},
   "outputs": [],
   "source": [
    "anim_file = utils.animate_img_cube(cur_img_cube, f\"{model_dir}/real.gif\")\n",
    "display.Image(filename=anim_file)"
   ]
  },
  {
   "cell_type": "code",
   "execution_count": null,
   "metadata": {},
   "outputs": [],
   "source": [
    "anim_file = utils.animate_img_batch(real_images.numpy().transpose(0, 2, 3, 1), f\"{model_dir}/real_4.gif\")\n",
    "display.Image(filename=anim_file)"
   ]
  },
  {
   "cell_type": "code",
   "execution_count": null,
   "metadata": {},
   "outputs": [],
   "source": [
    "latent_size = 100\n",
    "# generator_net = model.Generator2D(latent_size=latent_size, input_channels=36*3, feature_map_size=64).to(device)\n",
    "generator_net = model.Generator2D_10().to(device)\n",
    "# generator_net = model.Generator3D().to(device)\n",
    "\n",
    "# discriminator_net = model.Discriminator2D().to(device)\n",
    "discriminator_net = model.Discriminator2D_10().to(device)\n",
    "# discriminator_net = model.DiscriminatorTemporal().to(device)\n",
    "# discriminator_net = model.Discriminator2D(input_channels=36*3, output_channels=36, feature_map_size=36*4, groups=36).to(device)\n",
    "# discriminator_net = model.DiscriminatorSheet(input_channels=3, output_channels=1, feature_map_size=4).to(device)\n",
    "# discriminator_net = model.Discriminator3D().to(device)\n",
    "\n",
    "generator_net.apply(model.weights_init)\n",
    "discriminator_net.apply(model.weights_init)\n",
    "\n",
    "print_and_log(generator_net)\n",
    "print_and_log(discriminator_net)"
   ]
  },
  {
   "cell_type": "code",
   "execution_count": null,
   "metadata": {},
   "outputs": [],
   "source": [
    "learning_rate = 0.0002\n",
    "beta1 = 0.5\n",
    "criterion = nn.BCELoss()\n",
    "\n",
    "fixed_noise2d = torch.randn(4, latent_size, 1, 1, device=device)\n",
    "# fixed_noise3d = torch.randn(4, latent_size, 1, 1, 1, device=device)\n",
    "\n",
    "real_label = torch.full((batch_size,), 1, device=device)\n",
    "fake_label = torch.full((batch_size,), 0, device=device)\n",
    "\n",
    "discriminator_optimizer = optim.Adam(discriminator_net.parameters(), lr=learning_rate, betas=(beta1, 0.999))\n",
    "generator_optimizer = optim.Adam(generator_net.parameters(), lr=learning_rate, betas=(beta1, 0.999))"
   ]
  },
  {
   "cell_type": "code",
   "execution_count": null,
   "metadata": {},
   "outputs": [],
   "source": [
    "# 2d\n",
    "anim_mask = calculate_anim_mask.calculate_anim_mask(batch_size).to(device)\n",
    "# 3d\n",
    "# anim_mask = calculate_anim_mask.calculate_anim_mask(batch_size).reshape(-1, 3, 36, 64, 64).to(device)"
   ]
  },
  {
   "cell_type": "code",
   "execution_count": null,
   "metadata": {
    "scrolled": true
   },
   "outputs": [],
   "source": [
    "num_epochs = 40\n",
    "\n",
    "generator_losses = []\n",
    "discriminator_losses = []\n",
    "generated_img_cubes = None\n",
    "train_iters = 0\n",
    "torch_ones = torch.tensor([1.0]).to(device)\n",
    "\n",
    "print_and_log(f\"{datetime.now()} Starting Training\")\n",
    "for epoch in range(num_epochs):\n",
    "    for batch_index, (real_images, _) in enumerate(dataloader, 0):\n",
    "        \n",
    "        discriminator_net.zero_grad()\n",
    "        \n",
    "        # 3d data\n",
    "        # real_inputs = utils.convert_to_img_cube(real_images, batch_size).to(device)\n",
    "        # 2d data\n",
    "        real_inputs = utils.convert_to_img_plane(real_images, batch_size).to(device)\n",
    "        # spatio-temporal data\n",
    "        # real_inputs = utils.convert_to_img_plane(real_images, batch_size).reshape(-1, 3, 64, 64).to(device)\n",
    "        \n",
    "        output = discriminator_net(real_inputs).view(-1)\n",
    "        discriminator_loss_real = criterion(output, real_label)\n",
    "        \n",
    "        discriminator_loss_real.backward()\n",
    "        real_output = output.mean().item()\n",
    "        \n",
    "        noise2d = torch.randn(batch_size, latent_size, 1, 1, device=device)\n",
    "        # noise3d = torch.randn(batch_size, latent_size, 1, 1, 1, device=device)\n",
    "\n",
    "        generated_inputs = generator_net(noise2d)\n",
    "        # generated_inputs = generator_net(noise3d)\n",
    "        generated_inputs = torch.where(anim_mask, torch_ones, generated_inputs)\n",
    "        \n",
    "        # discriminator:3D\n",
    "        # output = discriminator_net(generated_inputs.detach().reshape(-1, 3, 36, 64, 64)).view(-1)\n",
    "        # discriminator:2D\n",
    "        output = discriminator_net(generated_inputs.detach().reshape(-1, 108, 64, 64)).view(-1)\n",
    "        # discriminator:spatio-temporal\n",
    "        # output = discriminator_net(generated_inputs.detach().reshape(-1, 3, 64, 64)).view(-1)\n",
    "        \n",
    "        discriminator_loss_fake = criterion(output, fake_label)\n",
    "\n",
    "        discriminator_loss_fake.backward()\n",
    "        fake_output1 = output.mean().item()\n",
    "\n",
    "        discriminator_loss = discriminator_loss_real + discriminator_loss_fake\n",
    "\n",
    "        discriminator_optimizer.step()\n",
    "        \n",
    "        generator_net.zero_grad()\n",
    "        \n",
    "        # discriminator:3D\n",
    "        # output = discriminator_net(generated_inputs.reshape(-1, 3, 36, 64, 64)).view(-1)\n",
    "        # discriminator:2D\n",
    "        output = discriminator_net(generated_inputs.reshape(-1, 108, 64, 64)).view(-1)\n",
    "        # discriminator:spatio-temporal\n",
    "        # output = discriminator_net(generated_inputs.reshape(-1, 3, 64, 64)).view(-1)\n",
    "        \n",
    "        generator_loss = criterion(output, real_label)\n",
    "        \n",
    "        generator_loss.backward()\n",
    "        fake_output2 = output.mean().item()\n",
    "        \n",
    "        generator_optimizer.step()\n",
    "        \n",
    "        if batch_index % 250 == 0:\n",
    "            print_and_log(f\"{datetime.now()} [{epoch:02d}/{num_epochs}][{batch_index:04d}/{len(dataloader)}]\\t\"\n",
    "                          f\"D_Loss:{discriminator_loss.item():.4f} G_Loss:{generator_loss.item():.4f} Real:{real_output:.4f} \"\n",
    "                          f\"Fake1:{fake_output1:.4f} Fake2:{fake_output2:.4f}\")\n",
    "        \n",
    "        generator_losses.append(generator_loss.item())\n",
    "        discriminator_losses.append(discriminator_loss.item())\n",
    "        \n",
    "        if (train_iters % 2500 == 0) or ((epoch == num_epochs-1) and (batch_index == len(dataloader)-1)):\n",
    "            with torch.no_grad():\n",
    "                generated_inputs = generator_net(fixed_noise2d).detach()\n",
    "                # generated_inputs = generator_net(fixed_noise3d).detach()\n",
    "                generated_inputs = torch.where(anim_mask[:4], torch_ones, generated_inputs)\n",
    "                # 2d\n",
    "                generated_inputs = generated_inputs.unsqueeze(0).cpu().numpy().transpose(0, 1, 3, 4, 2) \n",
    "                # 3d\n",
    "                # generated_inputs = generated_inputs.reshape(-1, 108, 64, 64).unsqueeze(0).cpu().numpy().transpose(0, 1, 3, 4, 2) \n",
    "                generated_img_cubes = generated_inputs if generated_img_cubes is None else np.concatenate((generated_img_cubes, generated_inputs), axis=0)\n",
    "\n",
    "        train_iters += 1"
   ]
  },
  {
   "cell_type": "code",
   "execution_count": null,
   "metadata": {
    "scrolled": false
   },
   "outputs": [],
   "source": [
    "plt.figure(figsize=(10,5))\n",
    "plt.title(\"Generator and Discriminator Loss During Training\")\n",
    "plt.plot(generator_losses,label=\"Generator\")\n",
    "plt.plot(discriminator_losses,label=\"Discriminator\")\n",
    "plt.xlabel(\"iterations\")\n",
    "plt.ylabel(\"Loss\")\n",
    "plt.legend()\n",
    "plt.savefig(f\"{model_dir}/loss.png\")\n",
    "plt.show()"
   ]
  },
  {
   "cell_type": "code",
   "execution_count": null,
   "metadata": {},
   "outputs": [],
   "source": [
    "torch.save(discriminator_net.state_dict(), f\"{model_dir}/net_discriminator.pth\")\n",
    "torch.save(generator_net.state_dict(), f\"{model_dir}/net_generator.pth\")\n",
    "np.save(f\"{model_dir}/losses_generator.npy\" , np.array(generator_losses))\n",
    "np.save(f\"{model_dir}/losses_discriminator.npy\" , np.array(discriminator_losses))\n",
    "np.save(f\"{model_dir}/generated_img_cubes.npy\" , generated_img_cubes)"
   ]
  },
  {
   "cell_type": "code",
   "execution_count": null,
   "metadata": {},
   "outputs": [],
   "source": [
    "img_i = 0\n",
    "frame_i = 0 # 0-35\n",
    "eval_img_cube = generated_img_cubes[-1][img_i]\n",
    "plt.imsave(f\"{model_dir}/sample_output.png\", cv2.resize((eval_img_cube[:,:,frame_i*3:(frame_i+1)*3]+1.0)*0.5, dsize=(0,0), fx=4.0, fy=4.0, interpolation=cv2.INTER_NEAREST))\n",
    "plt.imshow((eval_img_cube[:,:,frame_i*3:(frame_i+1)*3]+1.0)*0.5)"
   ]
  },
  {
   "cell_type": "code",
   "execution_count": null,
   "metadata": {},
   "outputs": [],
   "source": [
    "anim_file = utils.animate_img_cube(eval_img_cube, f\"{model_dir}/generated.gif\")\n",
    "display.Image(filename=anim_file)"
   ]
  },
  {
   "cell_type": "code",
   "execution_count": null,
   "metadata": {},
   "outputs": [],
   "source": [
    "anim_file = utils.animate_img_batch(generated_img_cubes[-1], f\"{model_dir}/generated_4.gif\", get_img_cubes=False)\n",
    "display.Image(filename=anim_file)"
   ]
  },
  {
   "cell_type": "code",
   "execution_count": null,
   "metadata": {},
   "outputs": [],
   "source": [
    "anim_file = utils.animate_img_cube(generated_img_cubes, f\"{model_dir}/training.gif\", training_outputs=True)\n",
    "display.Image(filename=anim_file)"
   ]
  },
  {
   "cell_type": "code",
   "execution_count": null,
   "metadata": {},
   "outputs": [],
   "source": [
    "anim_file = utils.animate_img_batch(generated_img_cubes, f\"{model_dir}/training_4.gif\", get_img_cubes=False, training_outputs=True)\n",
    "display.Image(filename=anim_file)"
   ]
  },
  {
   "cell_type": "code",
   "execution_count": null,
   "metadata": {},
   "outputs": [],
   "source": [
    "plt.figure(figsize=(9*2, 5*2))\n",
    "plt.imshow((utils.get_sample_frames(real_images[0])+1.0)*0.5)"
   ]
  },
  {
   "cell_type": "code",
   "execution_count": null,
   "metadata": {},
   "outputs": [],
   "source": [
    "plt.figure(figsize=(9*2, 5*2))\n",
    "plt.imshow(utils.get_sample_frames(np.array([cv2.resize(frame, dsize=(0,0), fx=0.25, fy=0.25) for frame in imageio.get_reader(f\"outputs/generated.gif\")]), True))"
   ]
  },
  {
   "cell_type": "code",
   "execution_count": null,
   "metadata": {},
   "outputs": [],
   "source": [
    "plt.figure(figsize=(9*2, 5*2))\n",
    "plt.imshow(utils.get_sample_frames(np.array([cv2.resize(frame, dsize=(0,0), fx=0.5, fy=0.5) for frame in imageio.get_reader(f\"outputs/generated_4.gif\")]), True, True))"
   ]
  }
 ],
 "metadata": {
  "kernelspec": {
   "display_name": "animgan",
   "language": "python",
   "name": "animgan"
  },
  "language_info": {
   "codemirror_mode": {
    "name": "ipython",
    "version": 3
   },
   "file_extension": ".py",
   "mimetype": "text/x-python",
   "name": "python",
   "nbconvert_exporter": "python",
   "pygments_lexer": "ipython3",
   "version": "3.8.1"
  }
 },
 "nbformat": 4,
 "nbformat_minor": 4
}
