{
 "cells": [
  {
   "cell_type": "code",
   "execution_count": null,
   "metadata": {},
   "outputs": [],
   "source": [
    "%matplotlib inline\n",
    "import os\n",
    "import time\n",
    "import shutil\n",
    "import cv2\n",
    "import imageio\n",
    "import numpy as np\n",
    "import matplotlib.pyplot as plt\n",
    "import seaborn as sns\n",
    "\n",
    "sns.set_style(\"dark\")\n",
    "plt.style.use(\"dark_background\")\n",
    "\n",
    "import torch\n",
    "import torch.nn as nn\n",
    "import torch.optim as optim\n",
    "import torchvision.datasets\n",
    "import torchvision.transforms as transforms\n",
    "\n",
    "from datetime import datetime\n",
    "from IPython import display\n",
    "\n",
    "import utils\n",
    "import model\n",
    "import calculate_anim_mask\n",
    "import batch_iterator\n",
    "import train_model\n",
    "\n",
    "training_timestamp = str(int(time.time()))\n",
    "model_dir = f'trained_models/model_{training_timestamp}/'\n",
    "\n",
    "if not os.path.exists(model_dir):\n",
    "    os.makedirs(model_dir)\n",
    "\n",
    "device = torch.device(\"cuda:0\")"
   ]
  },
  {
   "cell_type": "code",
   "execution_count": null,
   "metadata": {},
   "outputs": [],
   "source": [
    "def print_and_log(text):\n",
    "    print(text)\n",
    "    print(text, file=open(f'{model_dir}/log.txt', 'a'))"
   ]
  },
  {
   "cell_type": "code",
   "execution_count": null,
   "metadata": {},
   "outputs": [],
   "source": [
    "shutil.copy2('./animation_gan.ipynb', model_dir)"
   ]
  },
  {
   "cell_type": "code",
   "execution_count": null,
   "metadata": {},
   "outputs": [],
   "source": [
    "if os.path.isfile('preprocessed_data/processed_data.pt'):\n",
    "    processed_data = torch.load('preprocessed_data/processed_data.pt')\n",
    "else:\n",
    "    processed_data = utils.preprocess_data(batch_size=64, data_size=40_000)\n",
    "    torch.save(processed_data, 'preprocessed_data/processed_data.pt')"
   ]
  },
  {
   "cell_type": "code",
   "execution_count": null,
   "metadata": {},
   "outputs": [],
   "source": [
    "batch_size = 8\n",
    "\n",
    "dataset = torchvision.datasets.ImageFolder(root=\"data\", transform=transforms.Compose([transforms.ToTensor(),\n",
    "                                                                                      transforms.Normalize((0.5, 0.5, 0.5), (0.5, 0.5, 0.5))]))\n",
    "dataloader = torch.utils.data.DataLoader(dataset, batch_size=batch_size, shuffle=True)\n",
    "\n",
    "batch_iter = batch_iterator.BatchIterator(processed_data, batch_size)"
   ]
  },
  {
   "cell_type": "code",
   "execution_count": null,
   "metadata": {},
   "outputs": [],
   "source": [
    "real_images, _ = next(iter(dataloader))\n",
    "cur_img = real_images[0].numpy().transpose(1, 2, 0)\n",
    "plt.figure(figsize=(9*2, 4*2))\n",
    "plt.imshow((cur_img+1.0)*0.5)"
   ]
  },
  {
   "cell_type": "code",
   "execution_count": null,
   "metadata": {},
   "outputs": [],
   "source": [
    "img_i = 0\n",
    "frame_i = 0 # 0-35\n",
    "cur_img_cube = utils.get_img_cube(real_images.numpy().transpose(0, 2, 3, 1), img_i)\n",
    "plt.imshow((cur_img_cube[:,:,frame_i*3:(frame_i+1)*3]+1.0)*0.5)"
   ]
  },
  {
   "cell_type": "code",
   "execution_count": null,
   "metadata": {},
   "outputs": [],
   "source": [
    "batch_images = batch_iter.next_batch()\n",
    "cur_img_plane = ((batch_images[0].type(torch.FloatTensor) / 255) - torch.Tensor([0.5])) / torch.Tensor([0.5])\n",
    "plt.imshow((cur_img_plane[:3].permute(1, 2, 0)+1.0)*0.5)"
   ]
  },
  {
   "cell_type": "code",
   "execution_count": null,
   "metadata": {},
   "outputs": [],
   "source": [
    "anim_file = utils.animate_img_cube(cur_img_cube, f\"{model_dir}/real.gif\")\n",
    "display.Image(filename=anim_file)"
   ]
  },
  {
   "cell_type": "code",
   "execution_count": null,
   "metadata": {},
   "outputs": [],
   "source": [
    "anim_file = utils.animate_img_batch(real_images.numpy().transpose(0, 2, 3, 1), f\"{model_dir}/real_4.gif\")\n",
    "display.Image(filename=anim_file)"
   ]
  },
  {
   "cell_type": "code",
   "execution_count": null,
   "metadata": {},
   "outputs": [],
   "source": [
    "latent_size = 100\n",
    "# generator_net = model.Generator2D(latent_size=latent_size, input_channels=36*3, feature_map_size=64).to(device)\n",
    "generator_net = model.Generator2D_10().to(device)\n",
    "# generator_net = model.Generator3D().to(device)\n",
    "\n",
    "# discriminator_net = model.Discriminator2D().to(device)\n",
    "discriminator_net = model.Discriminator2D_10().to(device)\n",
    "# discriminator_net = model.DiscriminatorTemporal().to(device)\n",
    "# discriminator_net = model.Discriminator2D(input_channels=36*3, output_channels=36, feature_map_size=36*4, groups=36).to(device)\n",
    "# discriminator_net = model.DiscriminatorSheet(input_channels=3, output_channels=1, feature_map_size=4).to(device)\n",
    "# discriminator_net = model.Discriminator3D().to(device)\n",
    "\n",
    "generator_net.apply(model.weights_init)\n",
    "discriminator_net.apply(model.weights_init)\n",
    "\n",
    "print_and_log(generator_net)\n",
    "print_and_log(discriminator_net)"
   ]
  },
  {
   "cell_type": "code",
   "execution_count": null,
   "metadata": {},
   "outputs": [],
   "source": [
    "learning_rate = 0.0002\n",
    "beta1 = 0.5\n",
    "discriminator_optimizer = optim.Adam(discriminator_net.parameters(), lr=learning_rate, betas=(beta1, 0.999))\n",
    "generator_optimizer = optim.Adam(generator_net.parameters(), lr=learning_rate, betas=(beta1, 0.999))"
   ]
  },
  {
   "cell_type": "code",
   "execution_count": null,
   "metadata": {},
   "outputs": [],
   "source": [
    "# 2d\n",
    "anim_mask = calculate_anim_mask.calculate_anim_mask(batch_size).to(device)\n",
    "# 3d\n",
    "# anim_mask = calculate_anim_mask.calculate_anim_mask(batch_size).reshape(-1, 3, 36, 64, 64).to(device)"
   ]
  },
  {
   "cell_type": "code",
   "execution_count": null,
   "metadata": {
    "scrolled": true
   },
   "outputs": [],
   "source": [
    "print_and_log(f\"{datetime.now()} Starting Training\")\n",
    "# generator_losses, discriminator_losses, generated_img_cubes = train_model.train_dataloader(discriminator_net, generator_net, discriminator_optimizer, generator_optimizer,\n",
    "#                                                                                            model_dir, dataloader, anim_mask, latent_size, num_epochs=40, batch_size=batch_size)\n",
    "generator_losses, discriminator_losses, generated_img_cubes = train_model.train_batchiterator(discriminator_net, generator_net, discriminator_optimizer, generator_optimizer,\n",
    "                                                                                              model_dir, batch_iter, anim_mask, latent_size, epochs=40, batch_size=batch_size)"
   ]
  },
  {
   "cell_type": "code",
   "execution_count": null,
   "metadata": {
    "scrolled": false
   },
   "outputs": [],
   "source": [
    "plt.figure(figsize=(10,5))\n",
    "plt.title(\"Generator and Discriminator Loss During Training\")\n",
    "plt.plot(generator_losses,label=\"Generator\")\n",
    "plt.plot(discriminator_losses,label=\"Discriminator\")\n",
    "plt.xlabel(\"iterations\")\n",
    "plt.ylabel(\"Loss\")\n",
    "plt.legend()\n",
    "plt.savefig(f\"{model_dir}/loss.png\")\n",
    "plt.show()"
   ]
  },
  {
   "cell_type": "code",
   "execution_count": null,
   "metadata": {},
   "outputs": [],
   "source": [
    "torch.save(discriminator_net.state_dict(), f\"{model_dir}/net_discriminator.pth\")\n",
    "torch.save(generator_net.state_dict(), f\"{model_dir}/net_generator.pth\")\n",
    "np.save(f\"{model_dir}/losses_generator.npy\", np.array(generator_losses))\n",
    "np.save(f\"{model_dir}/losses_discriminator.npy\", np.array(discriminator_losses))\n",
    "np.save(f\"{model_dir}/generated_img_cubes.npy\", generated_img_cubes)"
   ]
  },
  {
   "cell_type": "code",
   "execution_count": null,
   "metadata": {},
   "outputs": [],
   "source": [
    "img_i = 0\n",
    "frame_i = 0 # 0-35\n",
    "eval_img_cube = generated_img_cubes[-1][img_i]\n",
    "plt.imsave(f\"{model_dir}/sample_output.png\", cv2.resize((eval_img_cube[:,:,frame_i*3:(frame_i+1)*3]+1.0)*0.5, dsize=(0,0), fx=4.0, fy=4.0, interpolation=cv2.INTER_NEAREST))\n",
    "plt.imshow((eval_img_cube[:,:,frame_i*3:(frame_i+1)*3]+1.0)*0.5)"
   ]
  },
  {
   "cell_type": "code",
   "execution_count": null,
   "metadata": {},
   "outputs": [],
   "source": [
    "anim_file = utils.animate_img_cube(eval_img_cube, f\"{model_dir}/generated.gif\")\n",
    "display.Image(filename=anim_file)"
   ]
  },
  {
   "cell_type": "code",
   "execution_count": null,
   "metadata": {},
   "outputs": [],
   "source": [
    "anim_file = utils.animate_img_batch(generated_img_cubes[-1], f\"{model_dir}/generated_4.gif\", get_img_cubes=False)\n",
    "display.Image(filename=anim_file)"
   ]
  },
  {
   "cell_type": "code",
   "execution_count": null,
   "metadata": {},
   "outputs": [],
   "source": [
    "anim_file = utils.animate_img_cube(generated_img_cubes, f\"{model_dir}/training.gif\", training_outputs=True)\n",
    "display.Image(filename=anim_file)"
   ]
  },
  {
   "cell_type": "code",
   "execution_count": null,
   "metadata": {},
   "outputs": [],
   "source": [
    "anim_file = utils.animate_img_batch(generated_img_cubes, f\"{model_dir}/training_4.gif\", get_img_cubes=False, training_outputs=True)\n",
    "display.Image(filename=anim_file)"
   ]
  },
  {
   "cell_type": "code",
   "execution_count": null,
   "metadata": {},
   "outputs": [],
   "source": [
    "plt.figure(figsize=(9*2, 5*2))\n",
    "plt.imshow((utils.get_sample_frames(real_images[0])+1.0)*0.5)"
   ]
  },
  {
   "cell_type": "code",
   "execution_count": null,
   "metadata": {},
   "outputs": [],
   "source": [
    "plt.figure(figsize=(9*2, 5*2))\n",
    "plt.imshow(utils.get_sample_frames(np.array([cv2.resize(frame, dsize=(0,0), fx=0.25, fy=0.25) for frame in imageio.get_reader(f\"outputs/generated.gif\")]), True))"
   ]
  },
  {
   "cell_type": "code",
   "execution_count": null,
   "metadata": {},
   "outputs": [],
   "source": [
    "plt.figure(figsize=(9*2, 5*2))\n",
    "plt.imshow(utils.get_sample_frames(np.array([cv2.resize(frame, dsize=(0,0), fx=0.5, fy=0.5) for frame in imageio.get_reader(f\"outputs/generated_4.gif\")]), True, True))"
   ]
  }
 ],
 "metadata": {
  "kernelspec": {
   "display_name": "animgan",
   "language": "python",
   "name": "animgan"
  },
  "language_info": {
   "codemirror_mode": {
    "name": "ipython",
    "version": 3
   },
   "file_extension": ".py",
   "mimetype": "text/x-python",
   "name": "python",
   "nbconvert_exporter": "python",
   "pygments_lexer": "ipython3",
   "version": "3.8.1"
  }
 },
 "nbformat": 4,
 "nbformat_minor": 4
}
