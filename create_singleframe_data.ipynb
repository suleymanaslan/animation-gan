{
 "cells": [
  {
   "cell_type": "code",
   "execution_count": null,
   "metadata": {},
   "outputs": [],
   "source": [
    "import os\n",
    "import imageio\n",
    "from tqdm import tqdm"
   ]
  },
  {
   "cell_type": "code",
   "execution_count": null,
   "metadata": {},
   "outputs": [],
   "source": [
    "data_pth = \"data/train\"\n",
    "out_pth = \"data_singleframe/train\"\n",
    "\n",
    "for count, image_pth in enumerate(tqdm(os.listdir(data_pth))):\n",
    "    img = imageio.imread(os.path.join(data_pth, image_pth))\n",
    "    imageio.imwrite(f\"{out_pth}/{count}.png\", img[:64,:64,:3])"
   ]
  }
 ],
 "metadata": {
  "kernelspec": {
   "display_name": "animgan",
   "language": "python",
   "name": "animgan"
  },
  "language_info": {
   "codemirror_mode": {
    "name": "ipython",
    "version": 3
   },
   "file_extension": ".py",
   "mimetype": "text/x-python",
   "name": "python",
   "nbconvert_exporter": "python",
   "pygments_lexer": "ipython3",
   "version": "3.8.1"
  }
 },
 "nbformat": 4,
 "nbformat_minor": 4
}
