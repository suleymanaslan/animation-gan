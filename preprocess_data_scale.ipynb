{
 "cells": [
  {
   "cell_type": "code",
   "execution_count": null,
   "metadata": {},
   "outputs": [],
   "source": [
    "import utils\n",
    "import os\n",
    "import torch"
   ]
  },
  {
   "cell_type": "code",
   "execution_count": null,
   "metadata": {},
   "outputs": [],
   "source": [
    "if not os.path.isfile('preprocessed_data/processed_data.pt'):\n",
    "    processed_data = utils.preprocess_data(batch_size=64, data_size=40_000)\n",
    "    torch.save(processed_data, 'preprocessed_data/processed_data.pt')"
   ]
  },
  {
   "cell_type": "code",
   "execution_count": null,
   "metadata": {},
   "outputs": [],
   "source": [
    "scale = 0\n",
    "if not os.path.isfile('preprocessed_data/processed_data_4x4.pt'):\n",
    "    processed_data = utils.preprocess_scaled_data(scale, batch_size=64, data_size=40_000)\n",
    "    torch.save(processed_data, 'preprocessed_data/processed_data_4x4.pt')"
   ]
  },
  {
   "cell_type": "code",
   "execution_count": null,
   "metadata": {},
   "outputs": [],
   "source": [
    "scale = 1\n",
    "if not os.path.isfile('preprocessed_data/processed_data_8x8.pt'):\n",
    "    processed_data = utils.preprocess_scaled_data(scale, batch_size=64, data_size=40_000)\n",
    "    torch.save(processed_data, 'preprocessed_data/processed_data_8x8.pt')"
   ]
  },
  {
   "cell_type": "code",
   "execution_count": null,
   "metadata": {},
   "outputs": [],
   "source": [
    "scale = 2\n",
    "if not os.path.isfile('preprocessed_data/processed_data_16x16.pt'):\n",
    "    processed_data = utils.preprocess_scaled_data(scale, batch_size=64, data_size=40_000)\n",
    "    torch.save(processed_data, 'preprocessed_data/processed_data_16x16.pt')"
   ]
  },
  {
   "cell_type": "code",
   "execution_count": null,
   "metadata": {},
   "outputs": [],
   "source": [
    "scale = 3\n",
    "if not os.path.isfile('preprocessed_data/processed_data_32x32.pt'):\n",
    "    processed_data = utils.preprocess_scaled_data(scale, batch_size=64, data_size=40_000)\n",
    "    torch.save(processed_data, 'preprocessed_data/processed_data_32x32.pt')"
   ]
  }
 ],
 "metadata": {
  "kernelspec": {
   "display_name": "animgan",
   "language": "python",
   "name": "animgan"
  },
  "language_info": {
   "codemirror_mode": {
    "name": "ipython",
    "version": 3
   },
   "file_extension": ".py",
   "mimetype": "text/x-python",
   "name": "python",
   "nbconvert_exporter": "python",
   "pygments_lexer": "ipython3",
   "version": "3.8.1"
  }
 },
 "nbformat": 4,
 "nbformat_minor": 4
}
