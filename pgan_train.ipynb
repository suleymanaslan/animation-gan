{
 "cells": [
  {
   "cell_type": "code",
   "execution_count": null,
   "metadata": {},
   "outputs": [],
   "source": [
    "# adapted from https://github.com/facebookresearch/pytorch_GAN_zoo\n",
    "\n",
    "%matplotlib inline\n",
    "import os\n",
    "import time\n",
    "import shutil\n",
    "import numpy as np\n",
    "import matplotlib.pyplot as plt\n",
    "import seaborn as sns\n",
    "\n",
    "sns.set_style(\"dark\")\n",
    "plt.style.use(\"dark_background\")\n",
    "\n",
    "import torch\n",
    "import torch.optim as optim\n",
    "\n",
    "from skimage.transform import resize\n",
    "\n",
    "from datetime import datetime\n",
    "from IPython import display\n",
    "\n",
    "import utils\n",
    "import pgan_model\n",
    "import batch_iterator\n",
    "\n",
    "training_timestamp = str(int(time.time()))\n",
    "model_dir = f'trained_models/model_{training_timestamp}/'\n",
    "\n",
    "if not os.path.exists(model_dir):\n",
    "    os.makedirs(model_dir)\n",
    "\n",
    "device = torch.device(\"cuda:0\")"
   ]
  },
  {
   "cell_type": "code",
   "execution_count": null,
   "metadata": {},
   "outputs": [],
   "source": [
    "def print_and_log(text):\n",
    "    print(text)\n",
    "    print(text, file=open(f'{model_dir}/log.txt', 'a'))"
   ]
  },
  {
   "cell_type": "code",
   "execution_count": null,
   "metadata": {},
   "outputs": [],
   "source": [
    "shutil.copy2('./pgan_train.ipynb', model_dir)"
   ]
  },
  {
   "cell_type": "code",
   "execution_count": null,
   "metadata": {},
   "outputs": [],
   "source": [
    "if os.path.isfile('preprocessed_data/processed_data.pt'):\n",
    "    processed_data = torch.load('preprocessed_data/processed_data.pt')\n",
    "else:\n",
    "    processed_data = utils.preprocess_data(batch_size=64, data_size=40_000)\n",
    "    torch.save(processed_data, 'preprocessed_data/processed_data.pt')"
   ]
  },
  {
   "cell_type": "code",
   "execution_count": null,
   "metadata": {},
   "outputs": [],
   "source": [
    "batch_size = 16\n",
    "batch_iter = batch_iterator.BatchIterator(processed_data, batch_size)"
   ]
  },
  {
   "cell_type": "code",
   "execution_count": null,
   "metadata": {},
   "outputs": [],
   "source": [
    "batch_images = batch_iter.next_batch()\n",
    "cur_img_plane = ((batch_images[0].type(torch.FloatTensor) / 255) - torch.Tensor([0.5])) / torch.Tensor([0.5])\n",
    "plt.imshow((cur_img_plane[:3].permute(1, 2, 0)+1.0)*0.5)"
   ]
  },
  {
   "cell_type": "code",
   "execution_count": null,
   "metadata": {},
   "outputs": [],
   "source": [
    "img_sizes = {0: 4, \n",
    "             1: 8, \n",
    "             2: 16, \n",
    "             3: 32, \n",
    "             4: 64}\n",
    "\n",
    "scale = 0"
   ]
  },
  {
   "cell_type": "code",
   "execution_count": null,
   "metadata": {},
   "outputs": [],
   "source": [
    "def resize_batch_s(batch_img, size):\n",
    "    return np.array([resize(img_i.permute(1, 2, 0), (size, size)) for img_i in batch_img])\n",
    "\n",
    "def resize_batch_l(batch_img, size, batch_size):\n",
    "    return resize(batch_img.permute(0, 2, 3, 1), (batch_size, size, size))"
   ]
  },
  {
   "cell_type": "code",
   "execution_count": null,
   "metadata": {},
   "outputs": [],
   "source": [
    "img_i = 0\n",
    "frame_i = 0 # 0-35\n",
    "resized_batch = resize_batch_s(batch_images, img_sizes[scale])\n",
    "plt.imshow(resized_batch[img_i][:,:,frame_i:frame_i+3])"
   ]
  },
  {
   "cell_type": "code",
   "execution_count": null,
   "metadata": {},
   "outputs": [],
   "source": [
    "cur_img_plane = (torch.from_numpy(resized_batch.transpose((0, 3, 1, 2))).type(torch.FloatTensor)[0] - torch.Tensor([0.5])) / torch.Tensor([0.5])\n",
    "plt.imshow((cur_img_plane[:3].permute(1, 2, 0)+1.0)*0.5)"
   ]
  },
  {
   "cell_type": "code",
   "execution_count": null,
   "metadata": {},
   "outputs": [],
   "source": [
    "discriminator_net = pgan_model.PGANDiscriminator()\n",
    "generator_net = pgan_model.PGANGenerator()"
   ]
  },
  {
   "cell_type": "code",
   "execution_count": null,
   "metadata": {},
   "outputs": [],
   "source": [
    "learning_rate = 0.001\n",
    "\n",
    "discriminator_net.to(device)\n",
    "generator_net.to(device)\n",
    "\n",
    "optimizer_d = optim.Adam(filter(lambda p: p.requires_grad, discriminator_net.parameters()), betas=[0, 0.99], lr=learning_rate)\n",
    "optimizer_g = optim.Adam(filter(lambda p: p.requires_grad, generator_net.parameters()), betas=[0, 0.99], lr=learning_rate)\n",
    "\n",
    "optimizer_d.zero_grad()\n",
    "optimizer_g.zero_grad()\n",
    "\n",
    "print_and_log(generator_net)\n",
    "print_and_log(discriminator_net)"
   ]
  },
  {
   "cell_type": "code",
   "execution_count": null,
   "metadata": {},
   "outputs": [],
   "source": [
    "print_and_log(f\"{datetime.now()} Starting Training\")\n",
    "\n",
    "n_scales = 5\n",
    "model_alpha = 0.0\n",
    "alpha_update_cons = 0.00125\n",
    "epoch_per_scale = 16\n",
    "\n",
    "normalize_t = torch.Tensor([0.5]).to(device)\n",
    "\n",
    "for scale in range(0, n_scales):\n",
    "    if scale > 0:\n",
    "        model_alpha = 1.0\n",
    "        \n",
    "    for batch_step in range(1, (epoch_per_scale*batch_iter.size//batch_size)+1):\n",
    "        if batch_step % 25 == 0 and model_alpha > 0:\n",
    "            model_alpha = model_alpha - alpha_update_cons\n",
    "            model_alpha = 0.0 if model_alpha < 1e-5 else model_alpha\n",
    "            \n",
    "        if batch_step == 1 or batch_step % 100 == 0:\n",
    "            print(f\"{datetime.now()} scale:{scale}, step:{batch_step}, alpha:{model_alpha}\")\n",
    "            \n",
    "        batch_images = batch_iter.next_batch()\n",
    "        batch_images = resize_batch_s(batch_images, img_sizes[scale])\n",
    "        batch_images = (torch.from_numpy(batch_images.transpose((0, 3, 1, 2))).type(torch.FloatTensor).to(device) - normalize_t) / normalize_t"
   ]
  }
 ],
 "metadata": {
  "kernelspec": {
   "display_name": "animgan",
   "language": "python",
   "name": "animgan"
  },
  "language_info": {
   "codemirror_mode": {
    "name": "ipython",
    "version": 3
   },
   "file_extension": ".py",
   "mimetype": "text/x-python",
   "name": "python",
   "nbconvert_exporter": "python",
   "pygments_lexer": "ipython3",
   "version": "3.8.1"
  }
 },
 "nbformat": 4,
 "nbformat_minor": 4
}
